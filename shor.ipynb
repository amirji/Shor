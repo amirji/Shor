{
 "cells": [
  {
   "cell_type": "markdown",
   "metadata": {},
   "source": [
    "# Pre-Introduction"
   ]
  },
  {
   "cell_type": "markdown",
   "metadata": {},
   "source": [
    "## Post-Articlism"
   ]
  },
  {
   "cell_type": "markdown",
   "metadata": {},
   "source": [
    "In this document we will review everything we need to implement the shor's\n",
    "Algorithm. Before even going to think about Peter Shor and his Algorithm, I will\n",
    "first like to write that how I am writing this document, Because it is somehow\n",
    "cool and post-articlism. Post-articlism means, I don't like to hand in my\n",
    "project's report as a simple PDF file with some mathematical non-alive equations\n",
    "and codes, Instead I try to make an interactive tutorial so that everyone can\n",
    "reproduce the whole project by himself by ease of just some key-binding. Or even\n",
    "one can alter part of the projects and republish it by new results."
   ]
  },
  {
   "cell_type": "markdown",
   "metadata": {},
   "source": [
    "## Getup and Setup"
   ]
  },
  {
   "cell_type": "markdown",
   "metadata": {},
   "source": [
    "To write this interactive document I am using Spacemacs + org-mode + Babel, with\n",
    "the hands of these integrated tools that you are allowed to evaluate the codes and\n",
    "whole project instantly and behind the table I can export the whole document to an Ipython notebook or a\n",
    "bootstraped html page. \n",
    "I assume you have a holly Emacs version in you computer then you probably also have org-mode and Babel pre-installed in your emacs since version 24. The only thing that you need to do is configuring emacs to make it capable of handling Julia. For this then go through the steps bellow please"
   ]
  },
  {
   "cell_type": "markdown",
   "metadata": {},
   "source": [
    "### Add Julia layer in your code make a path to make a path to its executable file:"
   ]
  },
  {
   "cell_type": "markdown",
   "metadata": {},
   "source": [
    "(julia :variables julia-executable \"/path/to/your/julia\")"
   ]
  },
  {
   "cell_type": "markdown",
   "metadata": {},
   "source": [
    "### Now you need to say Babel to load Julia executable."
   ]
  },
  {
   "cell_type": "markdown",
   "metadata": {},
   "source": [
    "Babel is giving you the power of evaluating any src code inside a plain text and also many other cool features. Babel but needs to know about how to interact with Julia Repl before. For this you need to install [ess ](http://ess.r-project.org/) then you need to manually download [ob-julia.el](https://github.com/gjkerns/ob-julia/blob/master/ob-julia.el) and place it somewhere in your home directory. Then you need to add the bellow code into your \"init.el\" file of in \".emacs.d\" directory. This block of code will just tell Emacs to load relevant files for using Julia. \n",
    "\n",
    "    (require 'ess-site)\n",
    "    (setq  inferior-julia-program-name \"/path/to/your/julia\")\n",
    "    (load-file \"/path/to/ob-julia.el\")\n",
    "    (org-babel-do-load-languages\n",
    "     'org-babel-load-languages\n",
    "     '((julia . t)))\n",
    "\n",
    "Yes, If you did above now you can evaluate the julia codes of this document (I mean the original org file) offline in your Emacs.  \n",
    "Lets begin with a simple code evaluation of Julia in\n",
    "org-mode. The below code is written in a code block then evaluated using *c-c c-c*\n",
    "key binding."
   ]
  },
  {
   "cell_type": "code",
   "execution_count": 1,
   "metadata": {},
   "outputs": [],
   "source": [
    "println(\"this is the first line of the code using julia in Org mode and Bebel\")"
   ]
  },
  {
   "cell_type": "markdown",
   "metadata": {},
   "source": [
    "Look at the simple function bellow"
   ]
  },
  {
   "cell_type": "code",
   "execution_count": 1,
   "metadata": {},
   "outputs": [
    {
     "ename": "LoadError",
     "evalue": "\u001b[91mUndefVarError: x not defined\u001b[39m",
     "output_type": "error",
     "traceback": [
      "\u001b[91mUndefVarError: x not defined\u001b[39m",
      ""
     ]
    }
   ],
   "source": [
    "x*x"
   ]
  },
  {
   "cell_type": "markdown",
   "metadata": {},
   "source": [
    "I can call the code block above by simply calling the \"square(x=6)\", and the\n",
    "result will be:\n",
    ";;#+call: square(x=6)\n",
    "\n",
    "    36\n",
    "\n",
    "For exporting to a html-bootstrap file to html-bootstrap use bellow command:"
   ]
  },
  {
   "cell_type": "markdown",
   "metadata": {},
   "source": [
    "## In-line Code Blocks"
   ]
  },
  {
   "cell_type": "markdown",
   "metadata": {},
   "source": [
    "We can evaluate a code inline, For example `60` is 10 times\n",
    "bigger than the value of \"x=6\" that we used in above code."
   ]
  }
 ],
 "metadata": {
  "kernelspec": {
   "display_name": "Julia 1.0.1",
   "language": "julia",
   "name": "julia-1.0"
  },
  "language_info": {
   "file_extension": ".jl",
   "mimetype": "application/julia",
   "name": "julia",
   "version": "1.0.1"
  },
  "org": null
 },
 "nbformat": 4,
 "nbformat_minor": 1
}
